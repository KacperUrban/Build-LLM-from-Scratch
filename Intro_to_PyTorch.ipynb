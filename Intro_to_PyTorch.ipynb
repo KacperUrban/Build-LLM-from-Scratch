{
 "cells": [
  {
   "cell_type": "code",
   "execution_count": 23,
   "id": "cb2d26c6",
   "metadata": {},
   "outputs": [
    {
     "name": "stdout",
     "output_type": "stream",
     "text": [
      "Is GPU available? True\n",
      "PyTorch version: 2.8.0+cu126\n"
     ]
    }
   ],
   "source": [
    "import torch\n",
    "import numpy as np\n",
    "\n",
    "print(f\"Is GPU available? {torch.cuda.is_available()}\")\n",
    "print(f\"PyTorch version: {torch.__version__}\")"
   ]
  },
  {
   "cell_type": "markdown",
   "id": "c30a7675",
   "metadata": {},
   "source": [
    "### Tensors"
   ]
  },
  {
   "cell_type": "code",
   "execution_count": null,
   "id": "650a33fc",
   "metadata": {},
   "outputs": [
    {
     "ename": "RuntimeError",
     "evalue": "Numpy is not available",
     "output_type": "error",
     "traceback": [
      "\u001b[31m---------------------------------------------------------------------------\u001b[39m",
      "\u001b[31mRuntimeError\u001b[39m                              Traceback (most recent call last)",
      "\u001b[36mCell\u001b[39m\u001b[36m \u001b[39m\u001b[32mIn[30]\u001b[39m\u001b[32m, line 9\u001b[39m\n\u001b[32m      5\u001b[39m tensor3d = torch.tensor([[[\u001b[32m1\u001b[39m, \u001b[32m2\u001b[39m], [\u001b[32m3\u001b[39m, \u001b[32m4\u001b[39m]],\n\u001b[32m      6\u001b[39m                          [[\u001b[32m5\u001b[39m, \u001b[32m6\u001b[39m], [\u001b[32m7\u001b[39m, \u001b[32m8\u001b[39m]]])\n\u001b[32m      8\u001b[39m nptensor = np.ndarray([\u001b[32m2\u001b[39m, \u001b[32m2\u001b[39m])\n\u001b[32m----> \u001b[39m\u001b[32m9\u001b[39m tensorfromnumpy = \u001b[43mtorch\u001b[49m\u001b[43m.\u001b[49m\u001b[43mfrom_numpy\u001b[49m\u001b[43m(\u001b[49m\u001b[43mnptensor\u001b[49m\u001b[43m)\u001b[49m\n\u001b[32m     11\u001b[39m \u001b[38;5;28mprint\u001b[39m(\u001b[33m\"\u001b[39m\u001b[33mNumber of tensors\u001b[39m\u001b[33m'\u001b[39m\u001b[33m dimensions:\u001b[39m\u001b[33m\"\u001b[39m)\n\u001b[32m     12\u001b[39m \u001b[38;5;28mprint\u001b[39m(tensor0d.ndim)\n",
      "\u001b[31mRuntimeError\u001b[39m: Numpy is not available"
     ]
    }
   ],
   "source": [
    "tensor0d = torch.tensor(1)\n",
    "tensor1d = torch.tensor([1, 2, 3])\n",
    "tensor2d = torch.tensor([[1, 2],\n",
    "                         [3, 4]])\n",
    "tensor3d = torch.tensor([[[1, 2], [3, 4]],\n",
    "                         [[5, 6], [7, 8]]])\n",
    "\n",
    "nptensor = np.array([[1, 2], [3, 4]])\n",
    "tensorfromnumpy = torch.from_numpy(nptensor)\n",
    "\n",
    "print(\"Number of tensors' dimensions:\")\n",
    "print(tensor0d.ndim)\n",
    "print(tensor1d.ndim)\n",
    "print(tensor2d.ndim)\n",
    "print(tensor3d.ndim)"
   ]
  },
  {
   "cell_type": "code",
   "execution_count": 22,
   "id": "c426a039",
   "metadata": {},
   "outputs": [
    {
     "name": "stdout",
     "output_type": "stream",
     "text": [
      "Tensors datatypes:\n",
      "torch.float32\n",
      "torch.int64\n"
     ]
    }
   ],
   "source": [
    "floatvec = torch.tensor([1.0, 2.0, 3.0])\n",
    "print(\"Tensors datatypes:\")\n",
    "print(floatvec.dtype)\n",
    "print(floatvec.to(torch.int64).dtype)"
   ]
  },
  {
   "cell_type": "code",
   "execution_count": null,
   "id": "56706f2d",
   "metadata": {},
   "outputs": [],
   "source": []
  }
 ],
 "metadata": {
  "kernelspec": {
   "display_name": "venv",
   "language": "python",
   "name": "python3"
  },
  "language_info": {
   "codemirror_mode": {
    "name": "ipython",
    "version": 3
   },
   "file_extension": ".py",
   "mimetype": "text/x-python",
   "name": "python",
   "nbconvert_exporter": "python",
   "pygments_lexer": "ipython3",
   "version": "3.12.6"
  }
 },
 "nbformat": 4,
 "nbformat_minor": 5
}
