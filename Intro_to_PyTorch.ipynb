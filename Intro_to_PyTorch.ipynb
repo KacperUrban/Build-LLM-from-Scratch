{
 "cells": [
  {
   "cell_type": "code",
   "execution_count": 1,
   "id": "cb2d26c6",
   "metadata": {},
   "outputs": [
    {
     "name": "stdout",
     "output_type": "stream",
     "text": [
      "Is GPU available? True\n",
      "PyTorch version: 2.8.0+cu128\n"
     ]
    }
   ],
   "source": [
    "import torch\n",
    "import numpy as np\n",
    "\n",
    "print(f\"Is GPU available? {torch.cuda.is_available()}\")\n",
    "print(f\"PyTorch version: {torch.__version__}\")"
   ]
  },
  {
   "cell_type": "markdown",
   "id": "c30a7675",
   "metadata": {},
   "source": [
    "### Tensors"
   ]
  },
  {
   "cell_type": "code",
   "execution_count": 2,
   "id": "650a33fc",
   "metadata": {},
   "outputs": [
    {
     "name": "stdout",
     "output_type": "stream",
     "text": [
      "tensor([[1, 2],\n",
      "        [3, 4]], dtype=torch.int32)\n",
      "Number of tensors' dimensions:\n",
      "0\n",
      "1\n",
      "2\n",
      "3\n"
     ]
    }
   ],
   "source": [
    "tensor0d = torch.tensor(1)\n",
    "tensor1d = torch.tensor([1, 2, 3])\n",
    "tensor2d = torch.tensor([[1, 2],\n",
    "                         [3, 4]])\n",
    "tensor3d = torch.tensor([[[1, 2], [3, 4]],\n",
    "                         [[5, 6], [7, 8]]])\n",
    "\n",
    "nptensor = np.array([[1, 2], [3, 4]])\n",
    "tensorfromnumpy = torch.from_numpy(nptensor)\n",
    "\n",
    "print(tensorfromnumpy)\n",
    "\n",
    "print(\"Number of tensors' dimensions:\")\n",
    "print(tensor0d.ndim)\n",
    "print(tensor1d.ndim)\n",
    "print(tensor2d.ndim)\n",
    "print(tensor3d.ndim)"
   ]
  },
  {
   "cell_type": "code",
   "execution_count": 3,
   "id": "c426a039",
   "metadata": {},
   "outputs": [
    {
     "name": "stdout",
     "output_type": "stream",
     "text": [
      "Tensors datatypes:\n",
      "torch.float32\n",
      "torch.int64\n"
     ]
    }
   ],
   "source": [
    "floatvec = torch.tensor([1.0, 2.0, 3.0])\n",
    "print(\"Tensors datatypes:\")\n",
    "print(floatvec.dtype)\n",
    "print(floatvec.to(torch.int64).dtype)"
   ]
  },
  {
   "cell_type": "code",
   "execution_count": 4,
   "id": "9403a68e",
   "metadata": {},
   "outputs": [
    {
     "name": "stdout",
     "output_type": "stream",
     "text": [
      "torch.Size([2, 2])\n"
     ]
    },
    {
     "data": {
      "text/plain": [
       "torch.Size([3])"
      ]
     },
     "execution_count": 4,
     "metadata": {},
     "output_type": "execute_result"
    }
   ],
   "source": [
    "print(tensorfromnumpy.shape)\n",
    "floatvec.shape"
   ]
  },
  {
   "cell_type": "code",
   "execution_count": 5,
   "id": "3de2d70b",
   "metadata": {},
   "outputs": [
    {
     "name": "stdout",
     "output_type": "stream",
     "text": [
      "tensor([[1, 2, 3],\n",
      "        [4, 5, 6]])\n",
      "tensor([[1, 2],\n",
      "        [3, 4],\n",
      "        [5, 6]])\n",
      "tensor([[1, 2],\n",
      "        [3, 4],\n",
      "        [5, 6]])\n"
     ]
    }
   ],
   "source": [
    "tensor = torch.tensor([[1, 2, 3],\n",
    "                        [4, 5, 6]])\n",
    "print(tensor)\n",
    "tensor_reshaped = tensor.reshape(3, 2)\n",
    "print(tensor_reshaped)\n",
    "print(tensor.view(3, 2))"
   ]
  },
  {
   "cell_type": "code",
   "execution_count": 6,
   "id": "ee8590a5",
   "metadata": {},
   "outputs": [
    {
     "name": "stdout",
     "output_type": "stream",
     "text": [
      "tensor([[14, 32],\n",
      "        [32, 77]])\n",
      "tensor([[14, 32],\n",
      "        [32, 77]])\n"
     ]
    }
   ],
   "source": [
    "print(torch.matmul(tensor, tensor.T))\n",
    "print(tensor @ tensor.T)"
   ]
  },
  {
   "cell_type": "markdown",
   "id": "249cf24f",
   "metadata": {},
   "source": [
    "### Autograd"
   ]
  },
  {
   "cell_type": "code",
   "execution_count": 9,
   "id": "55e49de4",
   "metadata": {},
   "outputs": [
    {
     "name": "stdout",
     "output_type": "stream",
     "text": [
      "Gradient of loss w.r.t w1: (tensor([-0.2689]),)\n",
      "Gradient of loss w.r.t b1: (tensor([-0.2689]),)\n"
     ]
    }
   ],
   "source": [
    "from torch.nn import functional as F\n",
    "from torch.autograd import grad\n",
    "\n",
    "y = torch.tensor([1.0])\n",
    "x1 = torch.tensor([1.0])\n",
    "w1 = torch.tensor([2.0], requires_grad=True)\n",
    "b1 = torch.tensor([-1.0], requires_grad=True)\n",
    "\n",
    "z1 = x1 * w1 + b1\n",
    "a1 = torch.sigmoid(z1)\n",
    "loss = F.binary_cross_entropy(a1, y)\n",
    "\n",
    "grad_L_w1 = grad(loss, w1, retain_graph=True)\n",
    "grad_L_b1 = grad(loss, b1, retain_graph=True)\n",
    "\n",
    "print(f\"Gradient of loss w.r.t w1: {grad_L_w1}\")\n",
    "print(f\"Gradient of loss w.r.t b1: {grad_L_b1}\")"
   ]
  },
  {
   "cell_type": "code",
   "execution_count": 10,
   "id": "024d6e72",
   "metadata": {},
   "outputs": [
    {
     "name": "stdout",
     "output_type": "stream",
     "text": [
      "tensor([-0.2689])\n",
      "tensor([-0.2689])\n"
     ]
    }
   ],
   "source": [
    "loss.backward(retain_graph=True)\n",
    "print(w1.grad)\n",
    "print(b1.grad)"
   ]
  }
 ],
 "metadata": {
  "kernelspec": {
   "display_name": "venv",
   "language": "python",
   "name": "python3"
  },
  "language_info": {
   "codemirror_mode": {
    "name": "ipython",
    "version": 3
   },
   "file_extension": ".py",
   "mimetype": "text/x-python",
   "name": "python",
   "nbconvert_exporter": "python",
   "pygments_lexer": "ipython3",
   "version": "3.12.6"
  }
 },
 "nbformat": 4,
 "nbformat_minor": 5
}
